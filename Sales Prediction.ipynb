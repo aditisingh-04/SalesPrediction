{
 "cells": [
  {
   "cell_type": "code",
   "execution_count": null,
   "id": "ea17a981",
   "metadata": {},
   "outputs": [],
   "source": [
    "import pandas as pd\n",
    "import numpy as np\n",
    "import matplotlib.pyplot as plt\n",
    "import seaborn as sns"
   ]
  },
  {
   "cell_type": "code",
   "execution_count": null,
   "id": "78f3c12e",
   "metadata": {},
   "outputs": [],
   "source": [
    "#import dataset\n",
    "car_df = pd.read_csv('Car_Purchasing_Data.csv', encoding = 'ISO-8859-1')"
   ]
  },
  {
   "cell_type": "code",
   "execution_count": null,
   "id": "5c50d29c",
   "metadata": {},
   "outputs": [],
   "source": [
    "car_df.head(20)"
   ]
  },
  {
   "cell_type": "code",
   "execution_count": null,
   "id": "11556a84",
   "metadata": {},
   "outputs": [],
   "source": [
    "sns.pairplot(car_df)"
   ]
  },
  {
   "cell_type": "code",
   "execution_count": null,
   "id": "bb835c55",
   "metadata": {},
   "outputs": [],
   "source": [
    "#cleaning dataset and preprocessing \n",
    "X=car_df.drop(['Customer Name', 'Customer e-mail', 'Country','Car Purchase Amount'], axis = 1)"
   ]
  },
  {
   "cell_type": "code",
   "execution_count": null,
   "id": "92010188",
   "metadata": {},
   "outputs": [],
   "source": [
    "X"
   ]
  },
  {
   "cell_type": "code",
   "execution_count": null,
   "id": "d6a3ae5e",
   "metadata": {},
   "outputs": [],
   "source": [
    "y = car_df['Car Purchase Amount']"
   ]
  },
  {
   "cell_type": "code",
   "execution_count": null,
   "id": "122218fd",
   "metadata": {},
   "outputs": [],
   "source": [
    "y"
   ]
  },
  {
   "cell_type": "code",
   "execution_count": null,
   "id": "db76baca",
   "metadata": {},
   "outputs": [],
   "source": [
    "#normalizing the data set (MinMax Scaling)\n",
    "from sklearn.preprocessing import MinMaxScaler\n",
    "scaler = MinMaxScaler()\n",
    "X_scaled = scaler.fit_transform(X)\n"
   ]
  },
  {
   "cell_type": "code",
   "execution_count": null,
   "id": "ec8a48af",
   "metadata": {},
   "outputs": [],
   "source": [
    "scaler.data_max_"
   ]
  },
  {
   "cell_type": "code",
   "execution_count": null,
   "id": "d6589ebc",
   "metadata": {},
   "outputs": [],
   "source": [
    "scaler.data_min_"
   ]
  },
  {
   "cell_type": "code",
   "execution_count": null,
   "id": "9d41f23e",
   "metadata": {},
   "outputs": [],
   "source": [
    "y= y.values.reshape(-1,1)"
   ]
  },
  {
   "cell_type": "code",
   "execution_count": null,
   "id": "207c6252",
   "metadata": {},
   "outputs": [],
   "source": [
    "y.shape"
   ]
  },
  {
   "cell_type": "code",
   "execution_count": null,
   "id": "3a746724",
   "metadata": {},
   "outputs": [],
   "source": [
    "y_scaled = scaler.fit_transform(y)"
   ]
  },
  {
   "cell_type": "code",
   "execution_count": null,
   "id": "8f30ad3c",
   "metadata": {},
   "outputs": [],
   "source": [
    "X_scaled.shape"
   ]
  },
  {
   "cell_type": "code",
   "execution_count": null,
   "id": "40660c69",
   "metadata": {},
   "outputs": [],
   "source": [
    "# training model"
   ]
  },
  {
   "cell_type": "code",
   "execution_count": null,
   "id": "b9eea448",
   "metadata": {},
   "outputs": [],
   "source": [
    "# dividing the dataset into training and testing datasets\n",
    "from sklearn.model_selection import train_test_split\n",
    "X_train, X_test, y_train, y_test = train_test_split(X_scaled, y_scaled)"
   ]
  },
  {
   "cell_type": "code",
   "execution_count": null,
   "id": "e87163c6",
   "metadata": {},
   "outputs": [],
   "source": [
    "X_train.shape"
   ]
  },
  {
   "cell_type": "code",
   "execution_count": null,
   "id": "104ba54c",
   "metadata": {},
   "outputs": [],
   "source": [
    "import tensorflow.keras\n",
    "from keras.models import Sequential\n",
    "from keras.layers import Dense\n",
    "\n",
    "model = Sequential()\n",
    "model.add(Dense(25, input_dim = 5, activation = 'relu'))\n",
    "model.add(Dense(25, activation = 'relu'))\n",
    "model.add(Dense(1, activation = 'linear'))"
   ]
  },
  {
   "cell_type": "code",
   "execution_count": null,
   "id": "b01c2f52",
   "metadata": {},
   "outputs": [],
   "source": [
    "model.summary()"
   ]
  },
  {
   "cell_type": "code",
   "execution_count": null,
   "id": "d7679848",
   "metadata": {},
   "outputs": [],
   "source": [
    "model.compile(optimizer = 'adam', loss = 'mean_squared_error')"
   ]
  },
  {
   "cell_type": "code",
   "execution_count": null,
   "id": "005b16aa",
   "metadata": {},
   "outputs": [],
   "source": [
    "epochs_hist = model.fit(X_train, y_train, epochs = 25, batch_size = 25, verbose = 1, validation_split = 0.2)"
   ]
  },
  {
   "cell_type": "code",
   "execution_count": null,
   "id": "95693a77",
   "metadata": {},
   "outputs": [],
   "source": [
    "#evaluating the model\n",
    "print(epochs_hist.history.keys())\n",
    "\n",
    "plt.plot(epochs_hist.history['loss'])\n",
    "plt.plot(epochs_hist.history['val_loss'])\n",
    "\n",
    "plt.title('Model Loss Progression During Training/Validation')\n",
    "plt.ylabel('Training and Validation Losses')\n",
    "plt.xlabel('Epoch Number')\n",
    "plt.legend(['Training Loss', 'Validation Loss'])\n",
    "plt.show()"
   ]
  },
  {
   "cell_type": "code",
   "execution_count": null,
   "id": "0be23e10",
   "metadata": {},
   "outputs": [],
   "source": [
    "# testing - Gender, Age, Annual Salary, Credit Card Debt, Net Worth\n",
    "X_Testing = np.array([[1, 50, 50000, 10000, 100000]])"
   ]
  },
  {
   "cell_type": "code",
   "execution_count": null,
   "id": "122179d2",
   "metadata": {},
   "outputs": [],
   "source": [
    "y_predict = model.predict(X_Testing)\n",
    "y_predict.shape"
   ]
  },
  {
   "cell_type": "code",
   "execution_count": null,
   "id": "0604ff9b",
   "metadata": {},
   "outputs": [],
   "source": [
    "print('Expected Purchase Amount=', y_predict)"
   ]
  },
  {
   "cell_type": "code",
   "execution_count": null,
   "id": "de00a8a6",
   "metadata": {},
   "outputs": [],
   "source": []
  }
 ],
 "metadata": {
  "kernelspec": {
   "display_name": "Python 3 (ipykernel)",
   "language": "python",
   "name": "python3"
  },
  "language_info": {
   "codemirror_mode": {
    "name": "ipython",
    "version": 3
   },
   "file_extension": ".py",
   "mimetype": "text/x-python",
   "name": "python",
   "nbconvert_exporter": "python",
   "pygments_lexer": "ipython3",
   "version": "3.9.13"
  }
 },
 "nbformat": 4,
 "nbformat_minor": 5
}
